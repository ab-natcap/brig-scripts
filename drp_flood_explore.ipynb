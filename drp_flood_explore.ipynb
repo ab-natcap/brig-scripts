{
 "cells": [
  {
   "cell_type": "markdown",
   "id": "c1d920ff-88cd-4e1e-bff0-bd3785191d5f",
   "metadata": {},
   "source": [
    "## Find extent of Flooded areas as modeled for Disaster Risk Profile by Island Region in The Bahamas"
   ]
  },
  {
   "cell_type": "code",
   "execution_count": null,
   "id": "b41147c3-2d57-4312-bebf-2d0e44baf9e9",
   "metadata": {},
   "outputs": [],
   "source": [
    "import os\n",
    "import rasterio as rio\n",
    "import pandas as pd\n",
    "import geopandas as gpd\n",
    "import rasterstats as rs\n",
    "import plotly.express as px"
   ]
  },
  {
   "cell_type": "code",
   "execution_count": null,
   "id": "29fb11f7-0493-4872-95a0-378b9f69b87b",
   "metadata": {},
   "outputs": [],
   "source": [
    "def zonal_stats(geodf, raster_path, prefix, stats, grpby):\n",
    "    \"\"\"\n",
    "\n",
    "    :param geodf:  Geodataframe with polygons with areas to be summarized\n",
    "    :param raster_path:   path to raster\n",
    "    :param prefix: prefix to indicate data source \n",
    "    :param stat: statistics to calculate - see https://pythonhosted.org/rasterstats/manual.html#zonal-statistics for options\n",
    "    :return:  data frame with calculated stats\n",
    "    \"\"\"\n",
    "    zstats = rs.zonal_stats(geodf, raster_path,\n",
    "                           geojson_out=True, prefix=prefix,\n",
    "                          stats=stats,\n",
    "                          all_touched=True)\n",
    "    statsdf = gpd.GeoDataFrame.from_features(zstats)\n",
    "    stats_columns = [prefix + stat for stat in stats]\n",
    "    keep_columns = [grpby] + stats_columns\n",
    "    summary = statsdf[keep_columns]\n",
    "#     summary = statsdf[keep_columns].groupby([grpby]).sum()  # I there are > 1 record for the summary columns\n",
    "#     summary.reset_index(inplace=True)\n",
    "    return summary"
   ]
  },
  {
   "cell_type": "code",
   "execution_count": null,
   "id": "984dcb06-b832-4e42-bbd3-8d0153934bc8",
   "metadata": {},
   "outputs": [],
   "source": [
    "# Variables for directories, files, and layers\n",
    "raster_dir = '/Users/arbailey/Google Drive/Shared drives/brigBH2021/data/work/risks/flood_present'\n",
    "flood_rasters = {\n",
    "    'rp005':'A1_TWL_RP5_32618.tif',\n",
    "    'rp010':'A1_TWL_RP10_32618.tif',\n",
    "    'rp025':'A1_TWL_RP25_32618.tif',\n",
    "    'rp050':'A1_TWL_RP50_32618.tif',\n",
    "    'rp100':'A1_TWL_RP100_32618.tif'\n",
    "}\n",
    "bounds_dir = '/Users/arbailey/Google Drive/Shared drives/brigBH2021/data/work/bounds'\n",
    "bounds_gpkg = os.path.join(bounds_dir,'bhs_bounds.gpkg')\n",
    "islands_layer = 'LandPoly_Bahamas_subregions_32618'\n",
    "islands_2kmbuffer_layer = 'bhs_land_inside2kmbuffer_32618'"
   ]
  },
  {
   "cell_type": "code",
   "execution_count": null,
   "id": "c13a3796-721c-495d-a334-3817a3e89aa1",
   "metadata": {},
   "outputs": [],
   "source": [
    "# Load vector layers with regions to summarize rasters\n",
    "# Full island land \n",
    "islands_gdf = gpd.read_file(bounds_gpkg, layer=islands_layer)\n",
    "print(islands_gdf.head())\n",
    "# Island area within 2km of shoreline\n",
    "islands_2kmbuffer_gdf = gpd.read_file(bounds_gpkg, layer=islands_2kmbuffer_layer)"
   ]
  },
  {
   "cell_type": "code",
   "execution_count": null,
   "id": "6e4b510f-2c82-4dca-8824-da4cf96f4271",
   "metadata": {},
   "outputs": [],
   "source": [
    "# get raster resolution from one of the flood rasters\n",
    "rast = rio.open(os.path.join(raster_dir, flood_rasters['rp005']))\n",
    "pixel_resolution = rast.res[0]\n",
    "pixel_area_m2 = pixel_resolution ** 2\n",
    "pixel_area_m2"
   ]
  },
  {
   "cell_type": "code",
   "execution_count": null,
   "id": "e9bb338c-eb42-4bb1-a691-b16416e01a51",
   "metadata": {},
   "outputs": [],
   "source": [
    "# Example -- Return Period 5 years\n",
    "# rp05_raster = os.path.join(raster_dir, flood_rasters['rp05'])\n",
    "# print(\"Zonal Stats with \", rp05_raster)\n",
    "# rp05_count = zonal_stats(islands_gdf, rp05_raster, 'rp05_', 'count', 'Island')\n",
    "# print(rp05_count)\n",
    "# rp05_max = zonal_stats(islands_gdf, rp05_raster, 'rp05_', 'max', 'Island')\n",
    "# print(rp05_max)"
   ]
  },
  {
   "cell_type": "code",
   "execution_count": null,
   "id": "c731c4e7-21ed-467a-8025-af36518cd04e",
   "metadata": {},
   "outputs": [],
   "source": [
    "###. WIDE DAta Frame\n",
    "# Loop through all rasters and metrics to create a zonal stats summary of each\n",
    "# Add each data frame to a list  -- This is for a WIDE data frame\n",
    "summary_column = 'Island'\n",
    "results = []\n",
    "results_buffer = []\n",
    "for rp, tif in flood_rasters.items():\n",
    "    print(rp, tif)\n",
    "    raster_path = os.path.join(raster_dir, tif)\n",
    "    # Summarize stats for full island area\n",
    "    prefix = rp # + \"_\"\n",
    "    metrics = ['count','max']\n",
    "    summary_df = zonal_stats(islands_gdf, raster_path, prefix, metrics, summary_column)\n",
    "    results.append(summary_df)\n",
    "    # Summarize results for 2km buffer coastline strip\n",
    "    prefix = rp + \"buff\"\n",
    "    summary_df = zonal_stats(islands_2kmbuffer_gdf, raster_path, prefix, ['count'], summary_column)\n",
    "    results_buffer.append(summary_df)    \n",
    "#     print(summary_df) \n",
    "\n",
    "# Join all the data frames together on the summary column\n",
    "# This makes a WIDE data frame\n",
    "for i, df in enumerate(results + results_buffer):\n",
    "#     print(i, df)\n",
    "    if i == 0:\n",
    "        joined_df = df\n",
    "    else:\n",
    "        joined_df = pd.merge(left=joined_df, right=df, how='left', left_on=summary_column, right_on=summary_column)\n",
    "joined_df "
   ]
  },
  {
   "cell_type": "code",
   "execution_count": null,
   "id": "fc8cf734-f365-4d58-a537-19c07feccfc6",
   "metadata": {},
   "outputs": [],
   "source": [
    "\n",
    "## LONG Data Frame\n",
    "# Loop through all rasters and metrics to create a zonal stats summary of each\n",
    "# Add each data frame to a list  -- This is for a LONG data frame\n",
    "summary_column = 'Island'\n",
    "results = []\n",
    "results_buffer = []\n",
    "for rp, tif in flood_rasters.items():\n",
    "    print(rp, tif)\n",
    "    raster_path = os.path.join(raster_dir, tif)\n",
    "    # Summarize stats for full island area\n",
    "    prefix = \"\"\n",
    "    metrics = ['count','max']\n",
    "    islands_df = zonal_stats(islands_gdf, raster_path, prefix, metrics, summary_column)\n",
    "    islands_df['rp']=rp\n",
    "    islands_df['buffer']='n'\n",
    "    islands_df['floodarea_m2'] = islands_df['count'] * pixel_area_m2\n",
    "    # Summarize results for 2km buffer coastline strip\n",
    "    buffer_df = zonal_stats(islands_2kmbuffer_gdf, raster_path, prefix, ['count'], summary_column)\n",
    "    buffer_df['rp']=rp\n",
    "    buffer_df['buffer']='y'\n",
    "    buffer_df['floodarea_buff2k_m2'] = buffer_df['count'] * pixel_area_m2\n",
    "    \n",
    "    islands_df['count_buff2k'] = buffer_df['count']\n",
    "    islands_df['floodarea_buff2k_m2'] = buffer_df['floodarea_buff2k_m2']\n",
    "\n",
    "    \n",
    "    results.append(islands_df)\n",
    "    results_buffer.append(buffer_df)    \n",
    "#     print(summary_df) \n",
    "\n",
    "# Join all the data frames together on the summary column\n",
    "# This makes a LONG data frame\n",
    "\n",
    "stacked_df = pd.concat(results,axis=0, ignore_index=True)\n",
    "print(stacked_df.head())\n",
    "\n",
    "stacked_buffer_df = pd.concat(results_buffer,axis=0, ignore_index=True)\n",
    "print(stacked_buffer_df.head())"
   ]
  },
  {
   "cell_type": "code",
   "execution_count": null,
   "id": "a3e53e1a-543a-47e0-ab87-9ad75ddaa660",
   "metadata": {},
   "outputs": [],
   "source": [
    "#  Add the total area of the island to the data frame\n",
    "floodareas_df = pd.merge(left=stacked_df, right=islands_gdf, how='left', left_on=summary_column, right_on=summary_column)\n",
    "floodareas_df['prop_areaflooded'] = floodareas_df['floodarea_m2'] / floodareas_df['area_m2']\n",
    "floodareas_df['prop_buff2kflooded'] = floodareas_df['floodarea_buff2k_m2'] / floodareas_df['floodarea_m2']\n",
    "floodareas_df"
   ]
  },
  {
   "cell_type": "code",
   "execution_count": null,
   "id": "09fd6552-7cfc-4438-8be7-da4f92a75100",
   "metadata": {},
   "outputs": [],
   "source": [
    "# Visualize proportion of island area flooded for the different return periods.   Facets ordered by Island Name\n",
    "fig = px.bar(floodareas_df.sort_values(by=['Island','rp']), x='rp',y='prop_areaflooded', facet_col='Island', facet_col_wrap=4, height=1200)\n",
    "# fig.update_yaxes(matches=None)  # needed this before normalizing to proportion of area flooded\n",
    "fig.show()"
   ]
  },
  {
   "cell_type": "code",
   "execution_count": null,
   "id": "0cc4422c-a562-4623-9971-9f4dde06eb7c",
   "metadata": {},
   "outputs": [],
   "source": [
    "# Visualize proportion of island area flooded for the different return periods.   Facets ordered by Island Total land area - smallest to largest\n",
    "\n",
    "fig = px.bar(floodareas_df.sort_values(by=['area_m2','rp']), x='rp',y='prop_areaflooded', facet_col='Island', facet_col_wrap=4, height=1200)\n",
    "# fig.update_yaxes(matches=None)  # needed this before normalizing to proportion of area flooded\n",
    "fig.show()"
   ]
  },
  {
   "cell_type": "code",
   "execution_count": null,
   "id": "7851245a-cc31-4103-86d2-17b3963d78ff",
   "metadata": {},
   "outputs": [],
   "source": [
    "# Visualize proportion of 2km buffer area flooded for the different return periods.   Facets ordered by Island Total land area - smallest to largest\n",
    "\n",
    "fig = px.bar(floodareas_df.sort_values(by=['area_m2','rp']), x='rp',y='prop_buff2kflooded', facet_col='Island', facet_col_wrap=4, height=1200)\n",
    "# fig.update_yaxes(matches=None)  # needed this before normalizing to proportion of area flooded\n",
    "fig.show()"
   ]
  },
  {
   "cell_type": "code",
   "execution_count": null,
   "id": "7620f7a2-7d45-4231-a61c-864fb6ef9bfc",
   "metadata": {},
   "outputs": [],
   "source": [
    "fig = px.bar(floodareas_df.sort_values(by=['area_m2','rp']), x='rp',y='prop_areaflooded', color='Island', barmode='group', height=1200)\n",
    "fig.show()\n"
   ]
  }
 ],
 "metadata": {
  "kernelspec": {
   "display_name": "Python 3 (ipykernel)",
   "language": "python",
   "name": "python3"
  },
  "language_info": {
   "codemirror_mode": {
    "name": "ipython",
    "version": 3
   },
   "file_extension": ".py",
   "mimetype": "text/x-python",
   "name": "python",
   "nbconvert_exporter": "python",
   "pygments_lexer": "ipython3",
   "version": "3.8.10"
  }
 },
 "nbformat": 4,
 "nbformat_minor": 5
}
