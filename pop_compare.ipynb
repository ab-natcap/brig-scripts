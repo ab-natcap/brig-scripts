{
 "cells": [
  {
   "cell_type": "markdown",
   "id": "372a5b1e-3c02-47d9-8376-172dd13c44be",
   "metadata": {},
   "source": [
    "## Compare Population Data Sets"
   ]
  },
  {
   "cell_type": "code",
   "execution_count": 16,
   "id": "b6bc39b9-3e1c-4bf3-a355-13de47733717",
   "metadata": {},
   "outputs": [],
   "source": [
    "import os\n",
    "import pandas as pd\n",
    "import geopandas as gpd\n",
    "import rasterstats as rs"
   ]
  },
  {
   "cell_type": "code",
   "execution_count": 17,
   "id": "9ad699e9-e434-4272-aa42-3e27c3617ff9",
   "metadata": {},
   "outputs": [],
   "source": [
    "def zonal_pop_stats(geodf, raster_path, prefix, stat, grpby):\n",
    "    \"\"\"\n",
    "\n",
    "    :param geodf:  Geodataframe with polygons with areas to be summarized\n",
    "    :param raster_path:   path to population raster\n",
    "    :param prefix: prefix to indicate population source \n",
    "    :param stat: statistics to calculate\n",
    "    :return:  data frame with calculated stats\n",
    "    \"\"\"\n",
    "    stats = rs.zonal_stats(geodf, raster_path,\n",
    "                           geojson_out=True, prefix=prefix,\n",
    "                          stats=[stat],\n",
    "                          all_touched=True)\n",
    "    statsdf = gpd.GeoDataFrame.from_features(stats)\n",
    "    summary = statsdf[[grpby, prefix + stat]].groupby([grpby]).sum()\n",
    "    summary.reset_index(inplace=True)\n",
    "    return summary"
   ]
  },
  {
   "cell_type": "code",
   "execution_count": 18,
   "id": "22935e5c-24d2-4b58-accb-5d5da3ea7df4",
   "metadata": {},
   "outputs": [],
   "source": [
    "bounds_gpkg = '../data/work/bounds/bhs_bounds.gpkg'\n",
    "bounds_lyr = 'bhs_island_groups_32618'\n",
    "pop_dir = '../data/work/pop'\n",
    "wp2020_unc = os.path.join(pop_dir,'bhs_ppp_2020_UNadj_32618.tif')\n",
    "wp2020_con = os.path.join(pop_dir,'bhs_ppp_2020_UNadj_constrained_32618.tif')\n",
    "wp2010_unc = os.path.join(pop_dir,'bhs_ppp_2010_UNadj_32618.tif')"
   ]
  },
  {
   "cell_type": "code",
   "execution_count": 19,
   "id": "7fe3f95e-6fa8-4a76-9a57-7e5ca4547453",
   "metadata": {},
   "outputs": [
    {
     "name": "stderr",
     "output_type": "stream",
     "text": [
      "/Users/arbailey/opt/miniconda3/envs/geoenv/lib/python3.8/site-packages/geopandas/geodataframe.py:577: RuntimeWarning: Sequential read of iterator was interrupted. Resetting iterator. This can negatively impact the performance.\n",
      "  for feature in features_lst:\n"
     ]
    },
    {
     "name": "stdout",
     "output_type": "stream",
     "text": [
      "Zonal Stats with  ../data/work/pop/bhs_ppp_2020_UNadj_32618.tif\n",
      "         island_grp  wp2020_unc_sum\n",
      "0             Abaco    21479.472656\n",
      "1   Acklins/Crooked     1038.204712\n",
      "2            Andros     7054.615234\n",
      "3     Berry Islands      882.701233\n",
      "4            Bimini     2026.734009\n",
      "5        Cat Island     1359.314819\n",
      "6          Eluthera    11500.934570\n",
      "7            Exumas    13114.438477\n",
      "8      Grand Bahama    53533.554688\n",
      "9      Great Inagua      795.429321\n",
      "10    Little Inagua       54.770615\n",
      "11      Long Island     3119.585693\n",
      "12        Mayaguana      291.212982\n",
      "13   New Providence   277582.875000\n",
      "14    Ragged Island       70.611549\n",
      "15          Rum Cay      119.700272\n",
      "16     San Salvador      887.271179\n",
      "Zonal Stats with  ../data/work/pop/bhs_ppp_2020_UNadj_constrained_32618.tif\n",
      "         island_grp  wp2020_con_sum\n",
      "0             Abaco    21634.251953\n",
      "1   Acklins/Crooked     1062.821777\n",
      "2            Andros     6960.700195\n",
      "3     Berry Islands      855.954712\n",
      "4            Bimini     1968.379150\n",
      "5        Cat Island     1302.778442\n",
      "6          Eluthera    11786.451172\n",
      "7            Exumas    13695.203125\n",
      "8      Grand Bahama    53477.917969\n",
      "9      Great Inagua      845.474487\n",
      "10    Little Inagua        0.000000\n",
      "11      Long Island     3156.461670\n",
      "12        Mayaguana      302.286591\n",
      "13   New Providence   278030.625000\n",
      "14    Ragged Island       70.751968\n",
      "15          Rum Cay      117.395164\n",
      "16     San Salvador      884.262451\n",
      "Zonal Stats with  ../data/work/pop/bhs_ppp_2010_UNadj_32618.tif\n",
      "         island_grp  wp2010_unc_sum\n",
      "0             Abaco    17311.779297\n",
      "1   Acklins/Crooked      926.218750\n",
      "2            Andros     7637.671875\n",
      "3     Berry Islands      817.881592\n",
      "4            Bimini     1839.238770\n",
      "5        Cat Island     1549.326904\n",
      "6          Eluthera    11821.157227\n",
      "7            Exumas     7113.812012\n",
      "8      Grand Bahama    51600.218750\n",
      "9      Great Inagua      881.864319\n",
      "10    Little Inagua       71.171936\n",
      "11      Long Island     3184.705078\n",
      "12        Mayaguana      287.183472\n",
      "13   New Providence   250224.359375\n",
      "14    Ragged Island       74.234665\n",
      "15          Rum Cay      101.910362\n",
      "16     San Salvador      964.590027\n"
     ]
    }
   ],
   "source": [
    "# Zonal population stats\n",
    "islands_poly = gpd.read_file(bounds_gpkg, layer=bounds_lyr)\n",
    "\n",
    "# World Pop 2020, Unconstrained\n",
    "print(\"Zonal Stats with \", wp2020_unc)\n",
    "wp2020_unc_df = zonal_pop_stats(islands_poly, wp2020_unc, 'wp2020_unc_', 'sum', 'island_grp')\n",
    "print(wp2020_unc_df)\n",
    "\n",
    "# World Pop 2020, Constrained\n",
    "print(\"Zonal Stats with \", wp2020_con)\n",
    "wp2020_con_df = zonal_pop_stats(islands_poly, wp2020_con, 'wp2020_con_', 'sum', 'island_grp')\n",
    "print(wp2020_con_df)\n",
    "\n",
    "# World Pop2010, Unconstrained\n",
    "print(\"Zonal Stats with \", wp2010_unc)\n",
    "wp2010_unc_df = zonal_pop_stats(islands_poly, wp2010_unc, 'wp2010_unc_', 'sum', 'island_grp')\n",
    "print(wp2010_unc_df)"
   ]
  },
  {
   "cell_type": "code",
   "execution_count": 20,
   "id": "a38f844f-bab9-4e06-a8ce-8b5e11af1b97",
   "metadata": {},
   "outputs": [
    {
     "name": "stdout",
     "output_type": "stream",
     "text": [
      "Combining outputs\n",
      "         island_grp  wp2020_unc_sum  wp2020_con_sum  wp2010_unc_sum\n",
      "0             Abaco    21479.472656    21634.251953    17311.779297\n",
      "1   Acklins/Crooked     1038.204712     1062.821777      926.218750\n",
      "2            Andros     7054.615234     6960.700195     7637.671875\n",
      "3     Berry Islands      882.701233      855.954712      817.881592\n",
      "4            Bimini     2026.734009     1968.379150     1839.238770\n",
      "5        Cat Island     1359.314819     1302.778442     1549.326904\n",
      "6          Eluthera    11500.934570    11786.451172    11821.157227\n",
      "7            Exumas    13114.438477    13695.203125     7113.812012\n",
      "8      Grand Bahama    53533.554688    53477.917969    51600.218750\n",
      "9      Great Inagua      795.429321      845.474487      881.864319\n",
      "10    Little Inagua       54.770615        0.000000       71.171936\n",
      "11      Long Island     3119.585693     3156.461670     3184.705078\n",
      "12        Mayaguana      291.212982      302.286591      287.183472\n",
      "13   New Providence   277582.875000   278030.625000   250224.359375\n",
      "14    Ragged Island       70.611549       70.751968       74.234665\n",
      "15          Rum Cay      119.700272      117.395164      101.910362\n",
      "16     San Salvador      887.271179      884.262451      964.590027\n",
      "       wp2020_unc_sum  wp2020_con_sum  wp2010_unc_sum\n",
      "count       17.000000       17.000000       17.000000\n",
      "mean     23230.083942    23303.042108    20965.136730\n",
      "std      66885.506191    66984.770385    60399.878959\n",
      "min         54.770615        0.000000       71.171936\n",
      "25%        795.429321      845.474487      817.881592\n",
      "50%       1359.314819     1302.778442     1549.326904\n",
      "75%      11500.934570    11786.451172     7637.671875\n",
      "max     277582.875000   278030.625000   250224.359375\n"
     ]
    }
   ],
   "source": [
    "print(\"Combining outputs\")\n",
    "metrics = pd.concat([wp2020_unc_df, wp2020_con_df.iloc[:,-1:], wp2010_unc_df.iloc[:,-1:]], axis=1)\n",
    "\n",
    "print(metrics)\n",
    "print(metrics.describe())"
   ]
  },
  {
   "cell_type": "code",
   "execution_count": 21,
   "id": "82a0c885-b22b-428f-9f51-fd8c35d272c1",
   "metadata": {},
   "outputs": [],
   "source": [
    "metrics.to_csv(os.path.join(pop_dir,'wp_2010_2020_compare.csv'))"
   ]
  },
  {
   "cell_type": "code",
   "execution_count": null,
   "id": "919a5102-81f5-45e6-ab0f-f63a08202f2c",
   "metadata": {},
   "outputs": [],
   "source": []
  }
 ],
 "metadata": {
  "kernelspec": {
   "display_name": "Python 3",
   "language": "python",
   "name": "python3"
  },
  "language_info": {
   "codemirror_mode": {
    "name": "ipython",
    "version": 3
   },
   "file_extension": ".py",
   "mimetype": "text/x-python",
   "name": "python",
   "nbconvert_exporter": "python",
   "pygments_lexer": "ipython3",
   "version": "3.8.10"
  }
 },
 "nbformat": 4,
 "nbformat_minor": 5
}
