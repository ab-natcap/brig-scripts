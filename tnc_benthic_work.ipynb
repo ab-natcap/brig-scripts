{
 "cells": [
  {
   "cell_type": "code",
   "execution_count": null,
   "id": "70fe9bfb-a161-43d5-9d70-688f7eadf502",
   "metadata": {},
   "outputs": [],
   "source": [
    "# https://www.earthdatascience.org/courses/use-data-open-source-python/intro-raster-data-python/raster-data-processing/classify-plot-raster-data-in-python/\n",
    "import os\n",
    "\n",
    "import matplotlib.pyplot as plt\n",
    "from matplotlib.colors import ListedColormap, BoundaryNorm\n",
    "import numpy as np\n",
    "import xarray as xr\n",
    "import rioxarray as rxr\n",
    "import earthpy as et\n",
    "import earthpy.plot as ep\n",
    "import pygeoprocessing\n",
    "\n",
    "# Prettier plotting with seaborn\n",
    "import seaborn as sns\n",
    "sns.set(font_scale=1.5, style=\"whitegrid\")"
   ]
  },
  {
   "cell_type": "code",
   "execution_count": null,
   "id": "803f9f37-acf5-4d0c-b035-5cc7506e1e94",
   "metadata": {},
   "outputs": [],
   "source": [
    "data_dir = '/Users/arbailey/natcap/brigbh2021/data/tnc/benthic'\n",
    "in_raster = 'bh_benhab_03042021_merge_gridcode.tif'\n",
    "in_raster_path = os.path.join(data_dir,in_raster)"
   ]
  },
  {
   "cell_type": "code",
   "execution_count": null,
   "id": "b595d016-75e2-4cdd-bfe1-f2658569161b",
   "metadata": {},
   "outputs": [],
   "source": [
    "benthic_all = rxr.open_rasterio(in_raster_path, chunks=True).squeeze()"
   ]
  },
  {
   "cell_type": "code",
   "execution_count": null,
   "id": "4e306dd6-e40b-4dfd-ba8d-647e6f024769",
   "metadata": {},
   "outputs": [],
   "source": [
    "benthic_all"
   ]
  },
  {
   "cell_type": "code",
   "execution_count": null,
   "id": "f826dfb3-d1a3-4473-98a2-22a79971b2ac",
   "metadata": {},
   "outputs": [],
   "source": [
    "print(\"CRS:  \", benthic_all.rio.crs)\n",
    "print(\"Spatial extent:  \", benthic_all.rio.bounds())\n",
    "print(\"Bands:  \", benthic_all.rio.count)\n",
    "print(\"Pixel size:  \", benthic_all.rio.resolution())\n",
    "print( \"No data value:  \", benthic_all.rio.nodata)"
   ]
  },
  {
   "cell_type": "code",
   "execution_count": null,
   "id": "6c9b37db-3e5c-4992-a1ae-978a7f704603",
   "metadata": {},
   "outputs": [],
   "source": [
    "# https://corteva.github.io/rioxarray/stable/getting_started/manage_information_loss.html\n",
    "# Reclassify\n",
    "reef = xr.where(benthic_all < 4, 1, 15)\n",
    "# Get Attributes from the source data\n",
    "# reef.rio.write_crs(benthic_all.rio.crs, inplace=True)\n",
    "# reef.rio.update_attrs(benthic_all.attrs, inplace=True)\n",
    "reef.rio.update_attrs({'_FillValue': 15.0}, inplace=True)\n",
    "# reef.rio.update_encoding(benthic_all.encoding, inplace=True)\n",
    "# reef.rio.set_nodata(15,inplace=True)\n",
    "reef"
   ]
  },
  {
   "cell_type": "code",
   "execution_count": null,
   "id": "d52cfd23-d732-47c6-ad8e-40535141cf8a",
   "metadata": {},
   "outputs": [],
   "source": [
    "print(\"CRS:  \", reef.rio.crs)\n",
    "print(\"Spatial extent:  \", reef.rio.bounds())\n",
    "print(\"Bands:  \", reef.rio.count)\n",
    "print(\"Pixel size:  \", reef.rio.resolution())\n",
    "print( \"No data value:  \", reef.rio.nodata)"
   ]
  },
  {
   "cell_type": "code",
   "execution_count": null,
   "id": "1ab5446b-b663-4b15-86b2-36dbf1e0aef9",
   "metadata": {},
   "outputs": [],
   "source": [
    "reef.encoding"
   ]
  },
  {
   "cell_type": "code",
   "execution_count": null,
   "id": "24cc8799-aa09-4206-806a-98a49997c2f6",
   "metadata": {},
   "outputs": [],
   "source": [
    "benthic_all.encoding"
   ]
  },
  {
   "cell_type": "code",
   "execution_count": null,
   "id": "6b035b81-6ca5-48d4-8b3b-69d863b8352f",
   "metadata": {},
   "outputs": [],
   "source": [
    "benthic_all.attrs"
   ]
  },
  {
   "cell_type": "code",
   "execution_count": null,
   "id": "f1169047-537c-400b-b027-bae267af16b2",
   "metadata": {},
   "outputs": [],
   "source": [
    "reef.attrs"
   ]
  },
  {
   "cell_type": "code",
   "execution_count": null,
   "id": "6a6ab4b1-9576-4b50-80ab-9ae3825f66ce",
   "metadata": {},
   "outputs": [],
   "source": [
    "np.uint8"
   ]
  },
  {
   "cell_type": "code",
   "execution_count": null,
   "id": "f5aede9c-0a6a-4bd8-874b-a3471011a597",
   "metadata": {},
   "outputs": [],
   "source": [
    "# Makes kernel die --- not enough memory? \n",
    "# out_raster_path = os.path.join(data_dir,'benhab_03042021_tnc_reef.tif')\n",
    "# reef.rio.to_raster(out_raster_path, dtype=np.uint8)"
   ]
  },
  {
   "cell_type": "code",
   "execution_count": null,
   "id": "eef7dd8d-84fd-49db-9ccd-ff49be8c28e1",
   "metadata": {},
   "outputs": [],
   "source": []
  }
 ],
 "metadata": {
  "kernelspec": {
   "display_name": "Python 3",
   "language": "python",
   "name": "python3"
  },
  "language_info": {
   "codemirror_mode": {
    "name": "ipython",
    "version": 3
   },
   "file_extension": ".py",
   "mimetype": "text/x-python",
   "name": "python",
   "nbconvert_exporter": "python",
   "pygments_lexer": "ipython3",
   "version": "3.8.10"
  }
 },
 "nbformat": 4,
 "nbformat_minor": 5
}
